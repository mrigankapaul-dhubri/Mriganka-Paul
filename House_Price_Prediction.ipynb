{
  "nbformat": 4,
  "nbformat_minor": 0,
  "metadata": {
    "colab": {
      "name": "House_Price_Prediction.ipynb",
      "provenance": [],
      "collapsed_sections": []
    },
    "kernelspec": {
      "name": "python3",
      "display_name": "Python 3"
    },
    "language_info": {
      "name": "python"
    }
  },
  "cells": [
    {
      "cell_type": "markdown",
      "metadata": {
        "id": "2oeO0NN-rvXJ"
      },
      "source": [
        "##The Problem Statement \n",
        "In this we would try to predict the sales of houses using the dataset provided. We used KNN Regressor with Python and Scikit-Learn.\n",
        "\n",
        "The dataset that I am using here is \"House_Prices.csv\""
      ]
    },
    {
      "cell_type": "code",
      "metadata": {
        "id": "G6Bg637IqFbu"
      },
      "source": [
        ""
      ],
      "execution_count": null,
      "outputs": []
    },
    {
      "cell_type": "code",
      "metadata": {
        "id": "Hdfn7KSgrt8q"
      },
      "source": [
        ""
      ],
      "execution_count": null,
      "outputs": []
    }
  ]
}