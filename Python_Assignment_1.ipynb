{
  "nbformat": 4,
  "nbformat_minor": 0,
  "metadata": {
    "colab": {
      "name": "Python_Assignment- 1.ipynb",
      "provenance": [],
      "collapsed_sections": []
    },
    "kernelspec": {
      "name": "python3",
      "display_name": "Python 3"
    },
    "language_info": {
      "name": "python"
    }
  },
  "cells": [
    {
      "cell_type": "markdown",
      "metadata": {
        "id": "YAprcvbO2bKk"
      },
      "source": [
        "**Name: Mriganka Paul\\\n",
        "Roll No. A21019**"
      ]
    },
    {
      "cell_type": "markdown",
      "metadata": {
        "id": "OezXIXbq2fnx"
      },
      "source": [
        "1. Write a program to find numbers which are divisible by 7 but not by 5, lying in the range 2000\n",
        "and 3200 (inclusive). Print the numbers in a single-line as a comma-separated sequence."
      ]
    },
    {
      "cell_type": "code",
      "metadata": {
        "colab": {
          "base_uri": "https://localhost:8080/"
        },
        "id": "MZ1d0a__2pVO",
        "outputId": "8a0d0b77-d518-4077-a217-faa02dec87b5"
      },
      "source": [
        "l1 = []\n",
        "for i in range (2000,3201):  # i will start from 2000 and go till 3201\n",
        "  if ((i % 7 == 0) and (i % 5 != 0)):\n",
        "    #print(i)   # only if both the condtions in If block is satisfied print the value of i\n",
        "    l1.append(i)\n",
        "print(l1)"
      ],
      "execution_count": 8,
      "outputs": [
        {
          "output_type": "stream",
          "text": [
            "[2002, 2009, 2016, 2023, 2037, 2044, 2051, 2058, 2072, 2079, 2086, 2093, 2107, 2114, 2121, 2128, 2142, 2149, 2156, 2163, 2177, 2184, 2191, 2198, 2212, 2219, 2226, 2233, 2247, 2254, 2261, 2268, 2282, 2289, 2296, 2303, 2317, 2324, 2331, 2338, 2352, 2359, 2366, 2373, 2387, 2394, 2401, 2408, 2422, 2429, 2436, 2443, 2457, 2464, 2471, 2478, 2492, 2499, 2506, 2513, 2527, 2534, 2541, 2548, 2562, 2569, 2576, 2583, 2597, 2604, 2611, 2618, 2632, 2639, 2646, 2653, 2667, 2674, 2681, 2688, 2702, 2709, 2716, 2723, 2737, 2744, 2751, 2758, 2772, 2779, 2786, 2793, 2807, 2814, 2821, 2828, 2842, 2849, 2856, 2863, 2877, 2884, 2891, 2898, 2912, 2919, 2926, 2933, 2947, 2954, 2961, 2968, 2982, 2989, 2996, 3003, 3017, 3024, 3031, 3038, 3052, 3059, 3066, 3073, 3087, 3094, 3101, 3108, 3122, 3129, 3136, 3143, 3157, 3164, 3171, 3178, 3192, 3199]\n"
          ],
          "name": "stdout"
        }
      ]
    },
    {
      "cell_type": "markdown",
      "metadata": {
        "id": "p86HWDyU3eV8"
      },
      "source": [
        "2. Write a program to calculate the factorial of a given number. Present the results in a singleline\n",
        "as a comma-separated sequence."
      ]
    },
    {
      "cell_type": "code",
      "metadata": {
        "colab": {
          "base_uri": "https://localhost:8080/"
        },
        "id": "fVm7ZNPp3hCR",
        "outputId": "202fb261-90ff-49c1-efad-950e3b54e264"
      },
      "source": [
        "n = int(input(\"Enter a number to get the factorials of it: \")) #get input from the user\n",
        "i = 1\n",
        "k = 1\n",
        "l1 = []\n",
        "while (i <= n):   #value of i will start from 1 and go till the amount inserted by user\n",
        "  if (n%i == 0):  #checking that there is no remainder when we divide the number that user has inserted by the value of i\n",
        "    j = int(n/i)  #converting the value of j to integer as it was giving float\n",
        "    l1.append(j)  #adding the values of j in each iteration to the empty list \"l1\"\n",
        "    k = k * j     #in each iteration multiplying the values of j to get the factorial of the number inserted by the user\n",
        "  i = i + 1\n",
        " \n",
        "print(\"The factorials of the number are {} = {}\".format(l1,k))\n"
      ],
      "execution_count": null,
      "outputs": [
        {
          "output_type": "stream",
          "text": [
            "Enter a number to get the factorials of it: 15\n",
            "The factorials of the number are [15, 5, 3, 1] = 225\n"
          ],
          "name": "stdout"
        }
      ]
    },
    {
      "cell_type": "markdown",
      "metadata": {
        "id": "u67gw5LP6jn3"
      },
      "source": [
        "3. Given an integer n, write a program that outputs a dictionary containing. Suppose the input\n",
        "to the program is 6, then the output should be: {1: 1, 2: 4, 3: 9, 4: 16, 5: 25, 6: 36}"
      ]
    },
    {
      "cell_type": "code",
      "metadata": {
        "colab": {
          "base_uri": "https://localhost:8080/"
        },
        "id": "MoWZ7GhR5Lww",
        "outputId": "39b4ab91-b189-4444-c8b9-840f3ffade3f"
      },
      "source": [
        "n = int(input(\"Enter an integer: \"))  #getting the number for the user and converting it to integer\n",
        "i = 1\n",
        "d1 = {}\n",
        "while (i<=n): \n",
        "  a = i\n",
        "  b = i**2\n",
        "  d1[a] = b       #inserting new keys and its values to the empty dictionary \"d1\" in each iteration\n",
        "  i = i + 1\n",
        "print(\"The required output is \", d1)"
      ],
      "execution_count": null,
      "outputs": [
        {
          "output_type": "stream",
          "text": [
            "Enter an integer: 7\n",
            "The required output is  {1: 1, 2: 4, 3: 9, 4: 16, 5: 25, 6: 36, 7: 49}\n"
          ],
          "name": "stdout"
        }
      ]
    },
    {
      "cell_type": "markdown",
      "metadata": {
        "id": "fjgZknmF-_U5"
      },
      "source": [
        "4. Write a program to accept a sequence separated by commas from the user and then generate\n",
        "a list and a tuple containing those numbers. If the input to the program is 24 37 52 32 11 95\n",
        "then, the output should be:\n",
        "[‘24’ ‘37’ ‘52’ ‘32’ ‘11’ ‘95’]\n",
        "('24', '37', '52', '32', '11', '95')"
      ]
    },
    {
      "cell_type": "code",
      "metadata": {
        "colab": {
          "base_uri": "https://localhost:8080/"
        },
        "id": "N-gpLGFq_EjR",
        "outputId": "acdf66ba-eeb8-4997-f050-620aae2f394b"
      },
      "source": [
        "n = str(input(\"Enter some numbers differentiating them with comma: \"))   #getting the input from the user and converting it string\n",
        "l1 = list(n.split(\",\"))                                                  #creating a list \"l1\" with the input data from the user and splitting each numbers with a comma in the list\n",
        "t1 = tuple(l1)                                                           #creating a new tuple \"t1\" from the above list\n",
        "str1 = str()\n",
        "for i in l1:\n",
        "  j  = \"'\" + str(i) + \"'\"                                               #each value from the list are converted to string data type and then added with single quotes \n",
        "  str1 = str1 + \" \" + j                                                 #concating the empty string \"str1\" with the values of \"j\"\n",
        "str1 = str1[1:]                                                         #took the values of \"str1\" from index 1 because initially in index 0 we were having space\n",
        "print(\"the output is [{}] {}\".format(str1, t1))"
      ],
      "execution_count": 1,
      "outputs": [
        {
          "output_type": "stream",
          "text": [
            "Enter some numbers differentiating them with comma: 24,89,59,69\n",
            "the output is ['24' '89' '59' '69'] ('24', '89', '59', '69')\n"
          ],
          "name": "stdout"
        }
      ]
    },
    {
      "cell_type": "markdown",
      "metadata": {
        "id": "oggBlCi0QUMD"
      },
      "source": [
        "5. Write a program that accepts a sequence of words separated by commas as the input and\n",
        "prints then back in a lexicographically sorted manner. If the following input is given as an input:\n",
        "within, horrible, big, wonder. The output would be: big, horrible, within, wonder."
      ]
    },
    {
      "cell_type": "code",
      "metadata": {
        "colab": {
          "base_uri": "https://localhost:8080/"
        },
        "id": "zc8WBBVFCxTb",
        "outputId": "b21df657-c0d3-4fec-a339-654dd3a10f60"
      },
      "source": [
        "n = str((input(\"Enter a sequence of words by commas as the input: \")))    #getting the input from the user and converting it string\n",
        "l1 = list(n.split(\",\"))                                                   #creating a list \"l1\" with the input data from the user and splitting each numbers with a comma in the list\n",
        "a = 0\n",
        "while (a < len(l1)):\n",
        "  l1[a] = l1[a].strip()                                                  #triming the spaces on the left and right hand side of each of the items in the list\n",
        "  a = a + 1\n",
        "l1 = sorted(l1)                                                          #sorting the data in increasing order\n",
        "k = str()\n",
        "for i in l1:\n",
        "  j = str(i)\n",
        "  k = k + \" \" + j\n",
        "print(\"The required output is \",k)"
      ],
      "execution_count": null,
      "outputs": [
        {
          "output_type": "stream",
          "text": [
            "Enter a sequence of words by commas as the input: within, horrible, big, wonder\n",
            "The required output is   big horrible within wonder\n"
          ],
          "name": "stdout"
        }
      ]
    },
    {
      "cell_type": "markdown",
      "metadata": {
        "id": "t7eClod474tl"
      },
      "source": [
        "6. Write a program to accept a set of words from the user separated by whitespaces. The\n",
        "program should print back the words after removing the duplicates and sorting them\n",
        "alphabetically. For example, the following input is given to the program: hello world and\n",
        "practice hard and be ready and hello world again. The output should be: again and be hard\n",
        "hello perfect practice ready world"
      ]
    },
    {
      "cell_type": "code",
      "metadata": {
        "colab": {
          "base_uri": "https://localhost:8080/"
        },
        "id": "0eXfiTs2I32D",
        "outputId": "c1b2792c-72e3-4cb3-f2fd-99407ed86723"
      },
      "source": [
        "n = str(input(\"Enter a set of words separated by whitespaces: \"))\n",
        "l1 = list(n.split(\" \"))\n",
        "a = 0\n",
        "while (a<len(l1)):\n",
        "  l1[a] = l1[a].strip()\n",
        "  a = a + 1\n",
        "l1 = set(l1)\n",
        "l1 = list(l1)\n",
        "l1 = sorted(l1)\n",
        "k = str()\n",
        "for i in l1:\n",
        "  j = str(i)\n",
        "  k = k + \" \" + j\n",
        "print(\"The output is\", k)\n"
      ],
      "execution_count": null,
      "outputs": [
        {
          "output_type": "stream",
          "text": [
            "Enter a set of words separated by whitespaces: hello world and practice hard and be ready and hello world again\n",
            "The output is  again and be hard hello practice ready world\n"
          ],
          "name": "stdout"
        }
      ]
    },
    {
      "cell_type": "markdown",
      "metadata": {
        "id": "XhRCuh0c-YXv"
      },
      "source": [
        "7. Write a program that accepts a sentence from the user and computes the number of letters\n",
        "and digits in it. Example: Suppose the input is: hello world! 897\n",
        "The output of the program should be: Letters 10 digits 3"
      ]
    },
    {
      "cell_type": "code",
      "metadata": {
        "colab": {
          "base_uri": "https://localhost:8080/"
        },
        "id": "0V_4ug9jJM2w",
        "outputId": "40282eef-5d04-47d4-8b3d-6fcfcb9be054"
      },
      "source": [
        "n = input(\"Enter a sentence to count the number of letters and digits in it\")\n",
        "print(n)\n",
        "letter = 0\n",
        "digit = 0\n",
        "for i in n:\n",
        "    if i.isdigit(): \n",
        "      digit = digit + 1\n",
        "    elif i.isalpha():\n",
        "      letter = letter + 1\n",
        "print(\"Number of letters and digits in the sentence are {} and {} respectively\".format(letter,digit))\n",
        "\n"
      ],
      "execution_count": null,
      "outputs": [
        {
          "output_type": "stream",
          "text": [
            "Enter a sentence to count the number of letters and digits in ithello world! 897\n",
            "hello world! 897\n",
            "Number of letters and digits in the sentence are 10 and 3 respectively\n"
          ],
          "name": "stdout"
        }
      ]
    },
    {
      "cell_type": "markdown",
      "metadata": {
        "id": "mZUwtqhHMfXB"
      },
      "source": [
        "8. Write a program that accepts a sentence and displays the number of upper-case letters and\n",
        "lower-case letters in the given sentence. If the input to the program is: Hello world!\n",
        "then, the program should yield: Upper case 1, Lower case 9"
      ]
    },
    {
      "cell_type": "code",
      "metadata": {
        "colab": {
          "base_uri": "https://localhost:8080/"
        },
        "id": "2V-k-QYna1Yc",
        "outputId": "2674f11a-f854-4f67-8f91-fbc048659285"
      },
      "source": [
        "n = input(\"Enter a sentence to know about the number of upper-case and lower-case letters: \")\n",
        "upper_case = 0\n",
        "lower_case = 0\n",
        "for e in n:\n",
        "  if e.isupper():\n",
        "    upper_case = upper_case + 1\n",
        "  elif e.islower():\n",
        "    lower_case = lower_case + 1\n",
        "\n",
        "print(\"Upper case {}, Lower case {}\".format(upper_case, lower_case))"
      ],
      "execution_count": null,
      "outputs": [
        {
          "output_type": "stream",
          "text": [
            "Enter a sentence to know about the number of upper-case and lower-case letters: Hello world!\n",
            "Upper case 1, Lower case 9\n"
          ],
          "name": "stdout"
        }
      ]
    }
  ]
}